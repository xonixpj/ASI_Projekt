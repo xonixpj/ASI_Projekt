{
 "cells": [
  {
   "cell_type": "code",
   "execution_count": 25,
   "id": "initial_id",
   "metadata": {
    "collapsed": true,
    "ExecuteTime": {
     "end_time": "2024-03-28T19:31:46.595206Z",
     "start_time": "2024-03-28T19:31:46.590346Z"
    }
   },
   "outputs": [],
   "source": [
    "import pandas as pd\n",
    "import numpy as np\n",
    "from sklearn.model_selection import KFold\n",
    "from sklearn.preprocessing import LabelEncoder, MinMaxScaler\n",
    "import tensorflow as tf\n",
    "from sklearn.metrics import f1_score, recall_score\n",
    "from tensorflow.keras.models import Sequential\n",
    "from tensorflow.keras.layers import Dense"
   ]
  },
  {
   "cell_type": "code",
   "outputs": [],
   "source": [
    "physical_devices = tf.config.list_physical_devices('GPU')\n",
    "if physical_devices:\n",
    "    tf.config.experimental.set_memory_growth(physical_devices[0], True)"
   ],
   "metadata": {
    "collapsed": false,
    "ExecuteTime": {
     "end_time": "2024-03-28T19:31:47.651315Z",
     "start_time": "2024-03-28T19:31:47.648076Z"
    }
   },
   "id": "797ad2d202930578",
   "execution_count": 26
  },
  {
   "cell_type": "code",
   "outputs": [],
   "source": [
    "data = pd.read_csv('./Data/weatherAUS.csv')"
   ],
   "metadata": {
    "collapsed": false,
    "ExecuteTime": {
     "end_time": "2024-03-28T19:31:48.554283Z",
     "start_time": "2024-03-28T19:31:48.335062Z"
    }
   },
   "id": "484345501afe2644",
   "execution_count": 27
  },
  {
   "cell_type": "code",
   "outputs": [],
   "source": [
    "data = data.fillna(-1)\n",
    "\n",
    "data = data.dropna(how='all')"
   ],
   "metadata": {
    "collapsed": false,
    "ExecuteTime": {
     "end_time": "2024-03-28T19:31:49.120239Z",
     "start_time": "2024-03-28T19:31:49.017965Z"
    }
   },
   "id": "c8f9973dce792447",
   "execution_count": 28
  },
  {
   "cell_type": "code",
   "outputs": [],
   "source": [
    "le = LabelEncoder()\n",
    "for column in data.columns:\n",
    "    if data[column].dtype == 'object':\n",
    "        data[column] = le.fit_transform(data[column].astype(str))"
   ],
   "metadata": {
    "collapsed": false,
    "ExecuteTime": {
     "end_time": "2024-03-28T19:31:50.052321Z",
     "start_time": "2024-03-28T19:31:49.878924Z"
    }
   },
   "id": "a83af39215d58b37",
   "execution_count": 29
  },
  {
   "cell_type": "code",
   "outputs": [],
   "source": [
    "scaler = MinMaxScaler()\n",
    "for column in data.columns:\n",
    "    if data[column].dtype == np.float64:\n",
    "        data[column] = scaler.fit_transform(data[column].values.reshape(-1, 1))"
   ],
   "metadata": {
    "collapsed": false,
    "ExecuteTime": {
     "end_time": "2024-03-28T19:31:50.405917Z",
     "start_time": "2024-03-28T19:31:50.377223Z"
    }
   },
   "id": "b6555bff41a4782c",
   "execution_count": 30
  },
  {
   "cell_type": "code",
   "outputs": [],
   "source": [
    "X = data.drop('RainTomorrow', axis=1)\n",
    "y = data['RainTomorrow']"
   ],
   "metadata": {
    "collapsed": false,
    "ExecuteTime": {
     "end_time": "2024-03-28T19:31:50.924095Z",
     "start_time": "2024-03-28T19:31:50.907734Z"
    }
   },
   "id": "a3b76662b85948fe",
   "execution_count": 31
  },
  {
   "cell_type": "code",
   "outputs": [],
   "source": [
    "n_splits = 10\n",
    "kf = KFold(n_splits=n_splits)"
   ],
   "metadata": {
    "collapsed": false,
    "ExecuteTime": {
     "end_time": "2024-03-28T19:31:51.421297Z",
     "start_time": "2024-03-28T19:31:51.417348Z"
    }
   },
   "id": "60d6603039b551f5",
   "execution_count": 32
  },
  {
   "cell_type": "code",
   "outputs": [],
   "source": [
    "model = Sequential([\n",
    "    Dense(64, activation='relu', input_shape=(X.shape[1],)),\n",
    "    Dense(1, activation='sigmoid')\n",
    "])"
   ],
   "metadata": {
    "collapsed": false,
    "ExecuteTime": {
     "end_time": "2024-03-28T19:31:52.113828Z",
     "start_time": "2024-03-28T19:31:52.086587Z"
    }
   },
   "id": "627ca195e76dd202",
   "execution_count": 33
  },
  {
   "cell_type": "code",
   "outputs": [],
   "source": [
    "model.compile(optimizer='adam',\n",
    "              loss='binary_crossentropy',\n",
    "              metrics=['accuracy'])"
   ],
   "metadata": {
    "collapsed": false,
    "ExecuteTime": {
     "end_time": "2024-03-28T19:31:52.507470Z",
     "start_time": "2024-03-28T19:31:52.496972Z"
    }
   },
   "id": "424f5dc5fbc333cf",
   "execution_count": 34
  },
  {
   "cell_type": "code",
   "outputs": [
    {
     "name": "stdout",
     "output_type": "stream",
     "text": [
      "455/455 [==============================] - 0s 758us/step\n",
      "455/455 [==============================] - 0s 773us/step\n"
     ]
    }
   ],
   "source": [
    "fold_accuracy = []\n",
    "fold_f1 = []\n",
    "fold_recall = []\n",
    "\n",
    "for train_index, test_index in kf.split(X):\n",
    "    X_train, X_test = X.iloc[train_index], X.iloc[test_index]\n",
    "    y_train, y_test = y.iloc[train_index], y.iloc[test_index]\n",
    "    \n",
    "    # Trenuj model na danych treningowych\n",
    "    model.fit(X_train, y_train, epochs=10, batch_size=32, verbose=0)\n",
    "    \n",
    "    # Predykcja na danych testowych\n",
    "    y_pred = model.predict(X_test)\n",
    "    y_pred = (y_pred > 0.5)  # Konwertuj wyniki na klasy binarne (0 lub 1)\n",
    "    \n",
    "    # Ocena modelu na danych testowych\n",
    "    _, accuracy = model.evaluate(X_test, y_test, verbose=0)\n",
    "    fold_accuracy.append(accuracy)\n",
    "    \n",
    "    # Oblicz dodatkowe metryki\n",
    "    f1 = f1_score(y_test, y_pred, average='micro')  # Zmiana ustawienia na 'micro'\n",
    "    recall = recall_score(y_test, y_pred, average='micro')  # Zmiana ustawienia na 'micro'\n",
    "    \n",
    "    fold_f1.append(f1)\n",
    "    fold_recall.append(recall)"
   ],
   "metadata": {
    "collapsed": false,
    "is_executing": true,
    "ExecuteTime": {
     "start_time": "2024-03-28T19:31:53.153762Z"
    }
   },
   "id": "a30c0ac555fae6cb",
   "execution_count": null
  },
  {
   "cell_type": "code",
   "outputs": [],
   "source": [
    "mean_accuracy = np.mean(fold_accuracy)\n",
    "std_accuracy = np.std(fold_accuracy)\n",
    "mean_f1 = np.mean(fold_f1)\n",
    "std_f1 = np.std(fold_f1)\n",
    "mean_recall = np.mean(fold_recall)\n",
    "std_recall = np.std(fold_recall)\n",
    "\n",
    "print(f'Średnia dokładność: {mean_accuracy} ± {std_accuracy}')\n",
    "print(f'Średnie F1-score: {mean_f1} ± {std_f1}')\n",
    "print(f'Średnia czułość: {mean_recall} ± {std_recall}')"
   ],
   "metadata": {
    "collapsed": false,
    "ExecuteTime": {
     "end_time": "2024-03-28T19:31:45.578073Z",
     "start_time": "2024-03-28T19:31:45.578073Z"
    }
   },
   "id": "5825aba89f3e7f01",
   "execution_count": null
  }
 ],
 "metadata": {
  "kernelspec": {
   "display_name": "Python 3",
   "language": "python",
   "name": "python3"
  },
  "language_info": {
   "codemirror_mode": {
    "name": "ipython",
    "version": 2
   },
   "file_extension": ".py",
   "mimetype": "text/x-python",
   "name": "python",
   "nbconvert_exporter": "python",
   "pygments_lexer": "ipython2",
   "version": "2.7.6"
  }
 },
 "nbformat": 4,
 "nbformat_minor": 5
}
