{
 "cells": [
  {
   "cell_type": "code",
   "execution_count": 4,
   "id": "initial_id",
   "metadata": {
    "collapsed": true,
    "ExecuteTime": {
     "end_time": "2024-04-06T16:24:39.548976Z",
     "start_time": "2024-04-06T16:24:36.600763Z"
    }
   },
   "outputs": [],
   "source": [
    "import pandas as pd\n",
    "import numpy as np\n",
    "from sklearn.model_selection import KFold\n",
    "from sklearn.preprocessing import LabelEncoder, MinMaxScaler\n",
    "import tensorflow as tf\n",
    "from sklearn.metrics import f1_score, recall_score\n",
    "from tensorflow.keras.models import Sequential\n",
    "from tensorflow.keras.layers import Dense"
   ]
  },
  {
   "cell_type": "code",
   "outputs": [],
   "source": [
    "physical_devices = tf.config.list_physical_devices('GPU')\n",
    "if physical_devices:\n",
    "    tf.config.experimental.set_memory_growth(physical_devices[0], True)"
   ],
   "metadata": {
    "collapsed": false,
    "ExecuteTime": {
     "end_time": "2024-04-06T16:24:44.500623Z",
     "start_time": "2024-04-06T16:24:44.498098Z"
    }
   },
   "id": "797ad2d202930578",
   "execution_count": 5
  },
  {
   "cell_type": "code",
   "outputs": [],
   "source": [
    "data = pd.read_csv('./Data/weatherAUS.csv')"
   ],
   "metadata": {
    "collapsed": false,
    "ExecuteTime": {
     "end_time": "2024-04-06T16:24:45.812752Z",
     "start_time": "2024-04-06T16:24:45.660152Z"
    }
   },
   "id": "484345501afe2644",
   "execution_count": 6
  },
  {
   "cell_type": "code",
   "outputs": [],
   "source": [
    "data = data.fillna(-1)\n",
    "\n",
    "data = data.dropna(how='all')"
   ],
   "metadata": {
    "collapsed": false,
    "ExecuteTime": {
     "end_time": "2024-04-06T16:24:46.493847Z",
     "start_time": "2024-04-06T16:24:46.431746Z"
    }
   },
   "id": "c8f9973dce792447",
   "execution_count": 7
  },
  {
   "cell_type": "code",
   "outputs": [],
   "source": [
    "le = LabelEncoder()\n",
    "for column in data.columns:\n",
    "    if data[column].dtype == 'object':\n",
    "        data[column] = le.fit_transform(data[column].astype(str))"
   ],
   "metadata": {
    "collapsed": false,
    "ExecuteTime": {
     "end_time": "2024-04-06T16:24:47.064483Z",
     "start_time": "2024-04-06T16:24:46.980979Z"
    }
   },
   "id": "a83af39215d58b37",
   "execution_count": 8
  },
  {
   "cell_type": "code",
   "outputs": [],
   "source": [
    "scaler = MinMaxScaler()\n",
    "for column in data.columns:\n",
    "    if data[column].dtype == np.float64:\n",
    "        data[column] = scaler.fit_transform(data[column].values.reshape(-1, 1))"
   ],
   "metadata": {
    "collapsed": false,
    "ExecuteTime": {
     "end_time": "2024-04-06T16:24:47.577413Z",
     "start_time": "2024-04-06T16:24:47.564329Z"
    }
   },
   "id": "b6555bff41a4782c",
   "execution_count": 9
  },
  {
   "cell_type": "code",
   "outputs": [],
   "source": [
    "X = data.drop('RainTomorrow', axis=1)\n",
    "y = data['RainTomorrow']"
   ],
   "metadata": {
    "collapsed": false,
    "ExecuteTime": {
     "end_time": "2024-04-06T16:24:48.362012Z",
     "start_time": "2024-04-06T16:24:48.352151Z"
    }
   },
   "id": "a3b76662b85948fe",
   "execution_count": 10
  },
  {
   "cell_type": "code",
   "outputs": [],
   "source": [
    "n_splits = 10\n",
    "kf = KFold(n_splits=n_splits)"
   ],
   "metadata": {
    "collapsed": false,
    "ExecuteTime": {
     "end_time": "2024-04-06T16:24:48.977183Z",
     "start_time": "2024-04-06T16:24:48.974292Z"
    }
   },
   "id": "60d6603039b551f5",
   "execution_count": 11
  },
  {
   "cell_type": "code",
   "outputs": [
    {
     "name": "stderr",
     "output_type": "stream",
     "text": [
      "/Library/Frameworks/Python.framework/Versions/3.11/lib/python3.11/site-packages/keras/src/layers/core/dense.py:88: UserWarning: Do not pass an `input_shape`/`input_dim` argument to a layer. When using Sequential models, prefer using an `Input(shape)` object as the first layer in the model instead.\n",
      "  super().__init__(activity_regularizer=activity_regularizer, **kwargs)\n"
     ]
    }
   ],
   "source": [
    "model = Sequential([\n",
    "    Dense(64, activation='relu', input_shape=(X.shape[1],)),\n",
    "    Dense(1, activation='sigmoid')\n",
    "])"
   ],
   "metadata": {
    "collapsed": false,
    "ExecuteTime": {
     "end_time": "2024-04-06T16:27:52.779950Z",
     "start_time": "2024-04-06T16:27:52.767167Z"
    }
   },
   "id": "627ca195e76dd202",
   "execution_count": 19
  },
  {
   "cell_type": "code",
   "outputs": [],
   "source": [
    "model.compile(optimizer='adam',\n",
    "              loss='binary_crossentropy',\n",
    "              metrics=['accuracy'])"
   ],
   "metadata": {
    "collapsed": false,
    "ExecuteTime": {
     "end_time": "2024-04-06T16:25:31.562193Z",
     "start_time": "2024-04-06T16:25:31.551044Z"
    }
   },
   "id": "424f5dc5fbc333cf",
   "execution_count": 15
  },
  {
   "cell_type": "code",
   "outputs": [
    {
     "ename": "NameError",
     "evalue": "name 'kf' is not defined",
     "output_type": "error",
     "traceback": [
      "\u001B[0;31m---------------------------------------------------------------------------\u001B[0m",
      "\u001B[0;31mNameError\u001B[0m                                 Traceback (most recent call last)",
      "Cell \u001B[0;32mIn[1], line 5\u001B[0m\n\u001B[1;32m      2\u001B[0m fold_f1 \u001B[38;5;241m=\u001B[39m []\n\u001B[1;32m      3\u001B[0m fold_recall \u001B[38;5;241m=\u001B[39m []\n\u001B[0;32m----> 5\u001B[0m \u001B[38;5;28;01mfor\u001B[39;00m train_index, test_index \u001B[38;5;129;01min\u001B[39;00m \u001B[43mkf\u001B[49m\u001B[38;5;241m.\u001B[39msplit(X):\n\u001B[1;32m      6\u001B[0m     X_train, X_test \u001B[38;5;241m=\u001B[39m X\u001B[38;5;241m.\u001B[39miloc[train_index], X\u001B[38;5;241m.\u001B[39miloc[test_index]\n\u001B[1;32m      7\u001B[0m     y_train, y_test \u001B[38;5;241m=\u001B[39m y\u001B[38;5;241m.\u001B[39miloc[train_index], y\u001B[38;5;241m.\u001B[39miloc[test_index]\n",
      "\u001B[0;31mNameError\u001B[0m: name 'kf' is not defined"
     ]
    }
   ],
   "source": [
    "fold_accuracy = []\n",
    "fold_f1 = []\n",
    "fold_recall = []\n",
    "\n",
    "for train_index, test_index in kf.split(X):\n",
    "    X_train, X_test = X.iloc[train_index], X.iloc[test_index]\n",
    "    y_train, y_test = y.iloc[train_index], y.iloc[test_index]\n",
    "    \n",
    "    # Trenuj model na danych treningowych\n",
    "    model.fit(X_train, y_train, epochs=10, batch_size=32, verbose=0)\n",
    "    \n",
    "    # Predykcja na danych testowych\n",
    "    y_pred = model.predict(X_test)\n",
    "    y_pred = (y_pred > 0.5)  # Konwertuj wyniki na klasy binarne (0 lub 1)\n",
    "    \n",
    "    # Ocena modelu na danych testowych\n",
    "    _, accuracy = model.evaluate(X_test, y_test, verbose=0)\n",
    "    fold_accuracy.append(accuracy)\n",
    "    \n",
    "    # Oblicz dodatkowe metryki\n",
    "    f1 = f1_score(y_test, y_pred, average='micro')  # Zmiana ustawienia na 'micro'\n",
    "    recall = recall_score(y_test, y_pred, average='micro')  # Zmiana ustawienia na 'micro'\n",
    "    \n",
    "    fold_f1.append(f1)\n",
    "    fold_recall.append(recall)"
   ],
   "metadata": {
    "collapsed": false,
    "ExecuteTime": {
     "end_time": "2024-04-20T11:38:49.981509Z",
     "start_time": "2024-04-20T11:38:49.911050Z"
    }
   },
   "id": "a30c0ac555fae6cb",
   "execution_count": 1
  },
  {
   "cell_type": "code",
   "outputs": [
    {
     "name": "stdout",
     "output_type": "stream",
     "text": [
      "Średnia dokładność: 0.7583940625190735 ± 0.024376946869838552\n",
      "Średnie F1-score: 0.7583940602227417 ± 0.024376951753523172\n",
      "Średnia czułość: 0.7583940602227417 ± 0.024376951753523172\n"
     ]
    }
   ],
   "source": [
    "mean_accuracy = np.mean(fold_accuracy)\n",
    "std_accuracy = np.std(fold_accuracy)\n",
    "mean_f1 = np.mean(fold_f1)\n",
    "std_f1 = np.std(fold_f1)\n",
    "mean_recall = np.mean(fold_recall)\n",
    "std_recall = np.std(fold_recall)\n",
    "\n",
    "print(f'Średnia dokładność: {mean_accuracy} ± {std_accuracy}')\n",
    "print(f'Średnie F1-score: {mean_f1} ± {std_f1}')\n",
    "print(f'Średnia czułość: {mean_recall} ± {std_recall}')"
   ],
   "metadata": {
    "collapsed": false,
    "ExecuteTime": {
     "end_time": "2024-04-06T16:27:10.049702Z",
     "start_time": "2024-04-06T16:27:10.044495Z"
    }
   },
   "id": "5825aba89f3e7f01",
   "execution_count": 17
  },
  {
   "cell_type": "code",
   "outputs": [],
   "source": [],
   "metadata": {
    "collapsed": false
   },
   "id": "199be6773db8ad62"
  }
 ],
 "metadata": {
  "kernelspec": {
   "display_name": "Python 3",
   "language": "python",
   "name": "python3"
  },
  "language_info": {
   "codemirror_mode": {
    "name": "ipython",
    "version": 2
   },
   "file_extension": ".py",
   "mimetype": "text/x-python",
   "name": "python",
   "nbconvert_exporter": "python",
   "pygments_lexer": "ipython2",
   "version": "2.7.6"
  }
 },
 "nbformat": 4,
 "nbformat_minor": 5
}
