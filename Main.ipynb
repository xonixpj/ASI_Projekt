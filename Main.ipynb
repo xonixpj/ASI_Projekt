{
 "cells": [
  {
   "cell_type": "code",
   "execution_count": 1,
   "id": "initial_id",
   "metadata": {
    "collapsed": true,
    "ExecuteTime": {
     "end_time": "2024-03-28T19:20:47.005686Z",
     "start_time": "2024-03-28T19:20:40.388240Z"
    }
   },
   "outputs": [
    {
     "name": "stdout",
     "output_type": "stream",
     "text": [
      "WARNING:tensorflow:From C:\\Users\\matyj\\AppData\\Local\\Programs\\Python\\Python311\\Lib\\site-packages\\keras\\src\\losses.py:2976: The name tf.losses.sparse_softmax_cross_entropy is deprecated. Please use tf.compat.v1.losses.sparse_softmax_cross_entropy instead.\n"
     ]
    }
   ],
   "source": [
    "import pandas as pd\n",
    "import numpy as np\n",
    "from sklearn.model_selection import KFold\n",
    "from sklearn.preprocessing import LabelEncoder, MinMaxScaler\n",
    "import tensorflow as tf\n",
    "from sklearn.metrics import f1_score, recall_score\n",
    "from tensorflow.keras.models import Sequential\n",
    "from tensorflow.keras.layers import Dense"
   ]
  },
  {
   "cell_type": "code",
   "outputs": [],
   "source": [
    "physical_devices = tf.config.list_physical_devices('GPU')\n",
    "if physical_devices:\n",
    "    tf.config.experimental.set_memory_growth(physical_devices[0], True)"
   ],
   "metadata": {
    "collapsed": false,
    "ExecuteTime": {
     "end_time": "2024-03-28T19:20:47.011147Z",
     "start_time": "2024-03-28T19:20:47.007215Z"
    }
   },
   "id": "797ad2d202930578",
   "execution_count": 2
  },
  {
   "cell_type": "code",
   "outputs": [],
   "source": [
    "data = pd.read_csv('./Data/weatherAUS.csv')"
   ],
   "metadata": {
    "collapsed": false,
    "ExecuteTime": {
     "end_time": "2024-03-28T19:20:47.258746Z",
     "start_time": "2024-03-28T19:20:47.012156Z"
    }
   },
   "id": "484345501afe2644",
   "execution_count": 3
  },
  {
   "cell_type": "code",
   "outputs": [],
   "source": [
    "le = LabelEncoder()\n",
    "for column in data.columns:\n",
    "    if data[column].dtype == 'object':\n",
    "        data[column] = le.fit_transform(data[column].astype(str))"
   ],
   "metadata": {
    "collapsed": false,
    "ExecuteTime": {
     "end_time": "2024-03-28T19:20:47.426687Z",
     "start_time": "2024-03-28T19:20:47.259753Z"
    }
   },
   "id": "a83af39215d58b37",
   "execution_count": 4
  },
  {
   "cell_type": "code",
   "outputs": [],
   "source": [
    "scaler = MinMaxScaler()\n",
    "for column in data.columns:\n",
    "    if data[column].dtype == np.float64:\n",
    "        data[column] = scaler.fit_transform(data[column].values.reshape(-1, 1))"
   ],
   "metadata": {
    "collapsed": false,
    "ExecuteTime": {
     "end_time": "2024-03-28T19:20:47.457680Z",
     "start_time": "2024-03-28T19:20:47.428704Z"
    }
   },
   "id": "b6555bff41a4782c",
   "execution_count": 5
  },
  {
   "cell_type": "code",
   "outputs": [],
   "source": [
    "X = data.drop('RainTomorrow', axis=1)\n",
    "y = data['RainTomorrow']"
   ],
   "metadata": {
    "collapsed": false,
    "ExecuteTime": {
     "end_time": "2024-03-28T19:20:47.472289Z",
     "start_time": "2024-03-28T19:20:47.457680Z"
    }
   },
   "id": "a3b76662b85948fe",
   "execution_count": 6
  },
  {
   "cell_type": "code",
   "outputs": [],
   "source": [
    "n_splits = 10\n",
    "kf = KFold(n_splits=n_splits)"
   ],
   "metadata": {
    "collapsed": false,
    "ExecuteTime": {
     "end_time": "2024-03-28T19:20:47.487675Z",
     "start_time": "2024-03-28T19:20:47.473297Z"
    }
   },
   "id": "60d6603039b551f5",
   "execution_count": 7
  },
  {
   "cell_type": "code",
   "outputs": [
    {
     "name": "stdout",
     "output_type": "stream",
     "text": [
      "WARNING:tensorflow:From C:\\Users\\matyj\\AppData\\Local\\Programs\\Python\\Python311\\Lib\\site-packages\\keras\\src\\backend.py:873: The name tf.get_default_graph is deprecated. Please use tf.compat.v1.get_default_graph instead.\n"
     ]
    }
   ],
   "source": [
    "model = Sequential([\n",
    "    Dense(64, activation='relu', input_shape=(X.shape[1],)),\n",
    "    Dense(1, activation='sigmoid')\n",
    "])"
   ],
   "metadata": {
    "collapsed": false,
    "ExecuteTime": {
     "end_time": "2024-03-28T19:20:47.744988Z",
     "start_time": "2024-03-28T19:20:47.488700Z"
    }
   },
   "id": "627ca195e76dd202",
   "execution_count": 8
  },
  {
   "cell_type": "code",
   "outputs": [
    {
     "name": "stdout",
     "output_type": "stream",
     "text": [
      "WARNING:tensorflow:From C:\\Users\\matyj\\AppData\\Local\\Programs\\Python\\Python311\\Lib\\site-packages\\keras\\src\\optimizers\\__init__.py:309: The name tf.train.Optimizer is deprecated. Please use tf.compat.v1.train.Optimizer instead.\n"
     ]
    }
   ],
   "source": [
    "model.compile(optimizer='adam',\n",
    "              loss='binary_crossentropy',\n",
    "              metrics=['accuracy'])"
   ],
   "metadata": {
    "collapsed": false,
    "ExecuteTime": {
     "end_time": "2024-03-28T19:20:47.826451Z",
     "start_time": "2024-03-28T19:20:47.745990Z"
    }
   },
   "id": "424f5dc5fbc333cf",
   "execution_count": 9
  },
  {
   "cell_type": "code",
   "outputs": [
    {
     "name": "stdout",
     "output_type": "stream",
     "text": [
      "455/455 [==============================] - 0s 716us/step\n",
      "455/455 [==============================] - 0s 805us/step\n",
      "455/455 [==============================] - 0s 701us/step\n",
      "455/455 [==============================] - 0s 748us/step\n",
      "455/455 [==============================] - 0s 749us/step\n",
      "455/455 [==============================] - 0s 701us/step\n",
      "455/455 [==============================] - 0s 716us/step\n",
      "455/455 [==============================] - 0s 706us/step\n",
      "455/455 [==============================] - 0s 696us/step\n",
      "455/455 [==============================] - 0s 903us/step\n"
     ]
    }
   ],
   "source": [
    "fold_accuracy = []\n",
    "fold_f1 = []\n",
    "fold_recall = []\n",
    "\n",
    "for train_index, test_index in kf.split(X):\n",
    "    X_train, X_test = X.iloc[train_index], X.iloc[test_index]\n",
    "    y_train, y_test = y.iloc[train_index], y.iloc[test_index]\n",
    "    \n",
    "    # Trenuj model na danych treningowych\n",
    "    model.fit(X_train, y_train, epochs=10, batch_size=32, verbose=0)\n",
    "    \n",
    "    # Predykcja na danych testowych\n",
    "    y_pred = model.predict(X_test)\n",
    "    y_pred = (y_pred > 0.5)  # Konwertuj wyniki na klasy binarne (0 lub 1)\n",
    "    \n",
    "    # Ocena modelu na danych testowych\n",
    "    _, accuracy = model.evaluate(X_test, y_test, verbose=0)\n",
    "    fold_accuracy.append(accuracy)\n",
    "    \n",
    "    # Oblicz dodatkowe metryki\n",
    "    f1 = f1_score(y_test, y_pred, average='micro')  # Zmiana ustawienia na 'micro'\n",
    "    recall = recall_score(y_test, y_pred, average='micro')  # Zmiana ustawienia na 'micro'\n",
    "    \n",
    "    fold_f1.append(f1)\n",
    "    fold_recall.append(recall)"
   ],
   "metadata": {
    "collapsed": false,
    "ExecuteTime": {
     "end_time": "2024-03-28T19:27:57.938269Z",
     "start_time": "2024-03-28T19:22:20.468970Z"
    }
   },
   "id": "a30c0ac555fae6cb",
   "execution_count": 12
  },
  {
   "cell_type": "code",
   "outputs": [
    {
     "name": "stdout",
     "output_type": "stream",
     "text": [
      "Średnia dokładność: 0.7583940625190735 ± 0.024376946869838552\n",
      "Średnie F1-score: 0.7583940602227417 ± 0.024376951753523172\n",
      "Średnia czułość: 0.7583940602227417 ± 0.024376951753523172\n"
     ]
    }
   ],
   "source": [
    "mean_accuracy = np.mean(fold_accuracy)\n",
    "std_accuracy = np.std(fold_accuracy)\n",
    "mean_f1 = np.mean(fold_f1)\n",
    "std_f1 = np.std(fold_f1)\n",
    "mean_recall = np.mean(fold_recall)\n",
    "std_recall = np.std(fold_recall)\n",
    "\n",
    "print(f'Średnia dokładność: {mean_accuracy} ± {std_accuracy}')\n",
    "print(f'Średnie F1-score: {mean_f1} ± {std_f1}')\n",
    "print(f'Średnia czułość: {mean_recall} ± {std_recall}')"
   ],
   "metadata": {
    "collapsed": false,
    "ExecuteTime": {
     "end_time": "2024-03-28T19:28:27.178631Z",
     "start_time": "2024-03-28T19:28:27.172053Z"
    }
   },
   "id": "5825aba89f3e7f01",
   "execution_count": 13
  }
 ],
 "metadata": {
  "kernelspec": {
   "display_name": "Python 3",
   "language": "python",
   "name": "python3"
  },
  "language_info": {
   "codemirror_mode": {
    "name": "ipython",
    "version": 2
   },
   "file_extension": ".py",
   "mimetype": "text/x-python",
   "name": "python",
   "nbconvert_exporter": "python",
   "pygments_lexer": "ipython2",
   "version": "2.7.6"
  }
 },
 "nbformat": 4,
 "nbformat_minor": 5
}
